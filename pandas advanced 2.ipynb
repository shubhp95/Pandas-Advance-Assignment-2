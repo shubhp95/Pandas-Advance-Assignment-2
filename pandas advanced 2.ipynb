{
 "cells": [
  {
   "cell_type": "markdown",
   "id": "4de53e5e-64f8-4429-844a-9ae0eca70b2d",
   "metadata": {},
   "source": []
  },
  {
   "cell_type": "code",
   "execution_count": 11,
   "id": "d60c2757-81fe-4b16-8f91-dbc08f511b9b",
   "metadata": {},
   "outputs": [],
   "source": [
    "import pandas as pd\n",
    "course_name = [\"Data Science\", 'Machine Learning', 'Big Data', 'Data Engineer']\n",
    "duration = [2,3,6,4]\n",
    "df = pd.DataFrame(data = {'course_name' : course_name, 'duration' : duration})"
   ]
  },
  {
   "cell_type": "code",
   "execution_count": 13,
   "id": "5592ea06-fe11-4e4d-a87d-7f502414d409",
   "metadata": {},
   "outputs": [
    {
     "name": "stdout",
     "output_type": "stream",
     "text": [
      "course_name    Machine Learning\n",
      "duration                      3\n",
      "Name: 1, dtype: object\n"
     ]
    }
   ],
   "source": [
    "#Ans1:\n",
    "print(df.iloc[1])"
   ]
  },
  {
   "cell_type": "code",
   "execution_count": null,
   "id": "d0dc7da5-93c6-4e12-91b3-4703048e816b",
   "metadata": {},
   "outputs": [],
   "source": [
    "#Ans2:\n",
    "#a. loc: Access a group of rows and columns by labels or a boolean array.\n",
    "#b. iloc: Access a group of rows and columns by integer location (position-based indexing)."
   ]
  },
  {
   "cell_type": "code",
   "execution_count": 15,
   "id": "601cc374-20a1-4030-b280-cc32cd741802",
   "metadata": {},
   "outputs": [
    {
     "name": "stdout",
     "output_type": "stream",
     "text": [
      "new_df.loc[2]: course_name    Big Data\n",
      "duration              6\n",
      "Name: 2, dtype: object\n",
      "\n",
      "new_df.iloc[2]: course_name    Machine Learning\n",
      "duration                      3\n",
      "Name: 1, dtype: object\n"
     ]
    }
   ],
   "source": [
    "#Ans3:\n",
    "reindex = [3, 0, 1, 2]\n",
    "new_df = df.reindex(reindex)\n",
    "loc_result = new_df.loc[2]\n",
    "iloc_result = new_df.iloc[2]\n",
    "\n",
    "print(\"new_df.loc[2]:\" ,loc_result)\n",
    "print(\"\\nnew_df.iloc[2]:\",iloc_result)\n",
    "\n",
    "#explanation- \n",
    "#a.loc (Label-based): new_df.loc[2] is based on the index label 2 in the reindexed DataFrame. After reindexing, the row labeled 2 corresponds to \"Big Data\".\n",
    "#b. iloc (Position-based): new_df.iloc[2] is based on the integer position 2, regardless of the label. In the reindexed DataFrame, the row at position 2 corresponds to \"Data Engineer\"."
   ]
  },
  {
   "cell_type": "code",
   "execution_count": 17,
   "id": "5fb615f3-3d6e-43a1-b210-8f64513caac7",
   "metadata": {},
   "outputs": [],
   "source": [
    "import pandas as pd\n",
    "import numpy as np\n",
    "columns = ['column_1', 'column_2', 'column_3', 'column_4', 'column_5', 'column_6']\n",
    "indices = [1,2,3,4,5,6]\n",
    "#Creating a dataframe:\n",
    "df1 = pd.DataFrame(np.random.rand(6,6), columns = columns, index = indices)"
   ]
  },
  {
   "cell_type": "code",
   "execution_count": 19,
   "id": "e9297586-9a4f-4583-9945-d37cff5b5461",
   "metadata": {},
   "outputs": [
    {
     "name": "stdout",
     "output_type": "stream",
     "text": [
      "Mean of each column: column_1    0.560157\n",
      "column_2    0.770461\n",
      "column_3    0.482739\n",
      "column_4    0.484085\n",
      "column_5    0.711613\n",
      "column_6    0.330749\n",
      "dtype: float64\n",
      "\n",
      "Standard deviation of 'column_2': 0.2110192607095143\n"
     ]
    }
   ],
   "source": [
    "#Ans4:\n",
    "#1.\n",
    "print(\"Mean of each column:\",df1.mean())\n",
    "#2.\n",
    "print(\"\\nStandard deviation of 'column_2':\",df1['column_2'].std())"
   ]
  },
  {
   "cell_type": "code",
   "execution_count": 23,
   "id": "ca7eb4d7-997e-4641-bd61-7ed6fdfc4ff9",
   "metadata": {},
   "outputs": [
    {
     "name": "stdout",
     "output_type": "stream",
     "text": [
      "Error encountered: unsupported operand type(s) for +: 'float' and 'str'\n"
     ]
    }
   ],
   "source": [
    "#Ans5:\n",
    "df1.loc[2, 'column_2'] = 'string_value'\n",
    "try:\n",
    "    mean_column_2 = df1['column_2'].mean()\n",
    "    print(\"Mean of column_2:\")\n",
    "    print(mean_column_2)\n",
    "except Exception as e:\n",
    "    print(\"Error encountered:\", e)\n",
    "#explanation- Data Type Change: By inserting a string into a numeric column, the entire column's data type changes to object because pandas must handle the mixed types"
   ]
  },
  {
   "cell_type": "code",
   "execution_count": 27,
   "id": "10257a49-f880-4338-8056-b26fbe5e01fb",
   "metadata": {},
   "outputs": [],
   "source": [
    "#Ans6: The concept of window functions is closely related to the idea of rolling and expanding operations over a DataFrame or Series\n",
    "#A.Rolling Window Functions: These functions perform calculations over a fixed-size window that slides over the data. For each position of the window, a calculation is performed based on the data within that window.\n",
    "#B.xpanding Window Functions: These functions perform calculations over an expanding window that starts with the first observation and grows with each additional observation.\n",
    "#C.Exponential Weighted Window Functions: These functions perform calculations using weights that decrease exponentially with time or observation index."
   ]
  },
  {
   "cell_type": "code",
   "execution_count": 29,
   "id": "4e49702d-e0b1-444c-8784-d124286e8510",
   "metadata": {},
   "outputs": [
    {
     "name": "stdout",
     "output_type": "stream",
     "text": [
      "Current Month: August\n",
      "Current Year: 2024\n"
     ]
    }
   ],
   "source": [
    "#Ans7:\n",
    "from datetime import datetime\n",
    "current_date = datetime.now()\n",
    "current_month = current_date.strftime('%B')\n",
    "current_year = current_date.strftime('%Y')\n",
    "print(f\"Current Month: {current_month}\")\n",
    "print(f\"Current Year: {current_year}\")"
   ]
  },
  {
   "cell_type": "code",
   "execution_count": 33,
   "id": "4d23f5a7-6896-4aa2-a64a-b2eed380b48c",
   "metadata": {},
   "outputs": [
    {
     "name": "stdin",
     "output_type": "stream",
     "text": [
      "Enter the first date (YYYY-MM-DD):  2012-09-22\n",
      "Enter the second date (YYYY-MM-DD):  2000-11-30\n"
     ]
    },
    {
     "name": "stdout",
     "output_type": "stream",
     "text": [
      "Difference: -4314 days, 0 hours, 0 minutes\n"
     ]
    }
   ],
   "source": [
    "#Ans8:\n",
    "def calculate_date_difference(date1_str, date2_str):\n",
    "    date1 = pd.to_datetime(date1_str)\n",
    "    date2 = pd.to_datetime(date2_str)\n",
    "    delta = date2 - date1\n",
    "    days = delta.days\n",
    "    hours, remainder = divmod(delta.seconds, 3600)\n",
    "    minutes, seconds = divmod(remainder, 60)\n",
    "    print(f\"Difference: {days} days, {hours} hours, {minutes} minutes\")\n",
    "def main():\n",
    "    date1_str = input(\"Enter the first date (YYYY-MM-DD): \")\n",
    "    date2_str = input(\"Enter the second date (YYYY-MM-DD): \")\n",
    "    calculate_date_difference(date1_str, date2_str)\n",
    "if __name__ == \"__main__\":\n",
    "    main()"
   ]
  },
  {
   "cell_type": "code",
   "execution_count": null,
   "id": "d6abce86-077f-476a-8c86-52cda4bdb41f",
   "metadata": {},
   "outputs": [],
   "source": [
    "#Ans9:\n",
    "def process_csv(file_path, column_name, category_order):\n",
    "    df = pd.read_csv(sp.csv)\n",
    "    if column_name not in df.columns:\n",
    "        print(f\"Error: Column '{column_name}' not found in the CSV file.\")\n",
    "        return\n",
    "    \n",
    "    df[column_name] = pd.Categorical(df[column_name], categories=category_order, ordered=True)\n",
    "    df_sorted = df.sort_values(by=column_name)\n",
    "    \n",
    "    print(\"\\nSorted DataFrame:\")\n",
    "    print(df_sorted)\n",
    "\n",
    "def main():\n",
    "\n",
    "    file_path = input(\"Enter the file path of the CSV file: \")\n",
    "    column_name = input(\"Enter the column name to convert to categorical: \")\n",
    "    category_order = input(\"Enter the category order separated by commas: \").split(',')\n",
    "    \n",
    "    category_order = [cat.strip() for cat in category_order]\n",
    "    \n",
    "    process_csv(sp.csv, studentid, )\n",
    "if __name__ == \"__main__\":\n",
    "    main()"
   ]
  },
  {
   "cell_type": "code",
   "execution_count": null,
   "id": "53959277-a240-4229-9c59-c9b8eda0a8f3",
   "metadata": {},
   "outputs": [],
   "source": [
    "#Ans11:\n",
    "mean_score = df['test_score'].mean()\n",
    "    median_score = df['test_score'].median()\n",
    "    mode_score = df['test_score'].mode().values[0]  # mode() returns a Series\n",
    "    \n",
    "    # Create a DataFrame to display the results\n",
    "    results = pd.DataFrame({\n",
    "        'Statistic': ['Mean', 'Median', 'Mode'],\n",
    "        'Value': [mean_score, median_score, mode_score]\n",
    "    })\n",
    "    \n",
    "    # Print the results in a table format\n",
    "    print(\"\\nStatistical Summary of Test Scores:\")\n",
    "    print(results)"
   ]
  }
 ],
 "metadata": {
  "kernelspec": {
   "display_name": "Python 3 (ipykernel)",
   "language": "python",
   "name": "python3"
  },
  "language_info": {
   "codemirror_mode": {
    "name": "ipython",
    "version": 3
   },
   "file_extension": ".py",
   "mimetype": "text/x-python",
   "name": "python",
   "nbconvert_exporter": "python",
   "pygments_lexer": "ipython3",
   "version": "3.12.4"
  }
 },
 "nbformat": 4,
 "nbformat_minor": 5
}
